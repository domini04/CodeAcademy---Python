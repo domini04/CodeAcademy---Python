{
 "cells": [
  {
   "cell_type": "code",
   "execution_count": 19,
   "id": "4c2d7702",
   "metadata": {},
   "outputs": [],
   "source": [
    "from sklearn.datasets import fetch_20newsgroups\n",
    "from sklearn.naive_bayes import MultinomialNB\n",
    "from sklearn.feature_extraction.text import CountVectorizer\n",
    "\n",
    "emails = fetch_20newsgroups()"
   ]
  },
  {
   "cell_type": "code",
   "execution_count": 8,
   "id": "e587c77a",
   "metadata": {},
   "outputs": [
    {
     "name": "stdout",
     "output_type": "stream",
     "text": [
      "['alt.atheism', 'comp.graphics', 'comp.os.ms-windows.misc', 'comp.sys.ibm.pc.hardware', 'comp.sys.mac.hardware', 'comp.windows.x', 'misc.forsale', 'rec.autos', 'rec.motorcycles', 'rec.sport.baseball', 'rec.sport.hockey', 'sci.crypt', 'sci.electronics', 'sci.med', 'sci.space', 'soc.religion.christian', 'talk.politics.guns', 'talk.politics.mideast', 'talk.politics.misc', 'talk.religion.misc']\n"
     ]
    }
   ],
   "source": [
    "print(emails.target_names)"
   ]
  },
  {
   "cell_type": "code",
   "execution_count": 17,
   "id": "f2fb0fc6",
   "metadata": {},
   "outputs": [
    {
     "name": "stdout",
     "output_type": "stream",
     "text": [
      "['rec.sport.baseball', 'rec.sport.hockey']\n"
     ]
    }
   ],
   "source": [
    "emails = fetch_20newsgroups(categories = ['rec.sport.baseball', 'rec.sport.hockey'])\n",
    "# categories param으로 불러올 항목을 제한 \n",
    "print(emails.target_names)"
   ]
  },
  {
   "cell_type": "code",
   "execution_count": 14,
   "id": "685d7fa8",
   "metadata": {},
   "outputs": [
    {
     "name": "stdout",
     "output_type": "stream",
     "text": [
      "From: mmb@lamar.ColoState.EDU (Michael Burger)\n",
      "Subject: More TV Info\n",
      "Distribution: na\n",
      "Nntp-Posting-Host: lamar.acns.colostate.edu\n",
      "Organization: Colorado State University, Fort Collins, CO  80523\n",
      "Lines: 36\n",
      "\n",
      "United States Coverage:\n",
      "Sunday April 18\n",
      "  N.J./N.Y.I. at Pittsburgh - 1:00 EDT to Eastern Time Zone\n",
      "  ABC - Gary Thorne and Bill Clement\n",
      "\n",
      "  St. Louis at Chicago - 12:00 CDT and 11:00 MDT - to Central/Mountain Zones\n",
      "  ABC - Mike Emerick and Jim Schoenfeld\n",
      "\n",
      "  Los Angeles at Calgary - 12:00 PDT and 11:00 ADT - to Pacific/Alaskan Zones\n",
      "  ABC - Al Michaels and John Davidson\n",
      "\n",
      "Tuesday, April 20\n",
      "  N.J./N.Y.I. at Pittsburgh - 7:30 EDT Nationwide\n",
      "  ESPN - Gary Thorne and Bill Clement\n",
      "\n",
      "Thursday, April 22 and Saturday April 24\n",
      "  To Be Announced - 7:30 EDT Nationwide\n",
      "  ESPN - To Be Announced\n",
      "\n",
      "\n",
      "Canadian Coverage:\n",
      "\n",
      "Sunday, April 18\n",
      "  Buffalo at Boston - 7:30 EDT Nationwide\n",
      "  TSN - ???\n",
      "\n",
      "Tuesday, April 20\n",
      "  N.J.D./N.Y. at Pittsburgh - 7:30 EDT Nationwide\n",
      "  TSN - ???\n",
      "\n",
      "Wednesday, April 21\n",
      "  St. Louis at Chicago - 8:30 EDT Nationwide\n",
      "  TSN - ???\n",
      "\n",
      "\n",
      "\n",
      "\n"
     ]
    }
   ],
   "source": [
    "# All of the emails are stored in a list called emails.data. Print the email at index 5 in the list.\n",
    "print(emails.data[5])"
   ]
  },
  {
   "cell_type": "code",
   "execution_count": 16,
   "id": "1cbfa8c5",
   "metadata": {},
   "outputs": [
    {
     "name": "stdout",
     "output_type": "stream",
     "text": [
      "1\n"
     ]
    }
   ],
   "source": [
    "# All of the labels can be found in the list emails.target. Print the label of the email at index 5.\n",
    "print(emails.target[5])\n",
    "# The labels themselves are numbers, but those numbers correspond to the label names found at emails.target_names. -> label 1 corresponds to 'rec.sport.hockey'"
   ]
  },
  {
   "cell_type": "code",
   "execution_count": 24,
   "id": "4fb34b3c",
   "metadata": {},
   "outputs": [],
   "source": [
    "# We now want to split our data into training and test sets. Change the name of your variable from emails to train_emails. Add these three parameters to the function call:\n",
    "\n",
    "# subset='train'\n",
    "# shuffle = True\n",
    "# random_state = 108\n",
    "\n",
    "train_emails = fetch_20newsgroups(categories = ['rec.sport.baseball', 'rec.sport.hockey'], subset = 'train', shuffle = True, random_state = 108)\n",
    "test_emails = fetch_20newsgroups(categories = ['rec.sport.baseball', 'rec.sport.hockey'], subset = 'test', shuffle = True, random_state = 108)"
   ]
  },
  {
   "cell_type": "code",
   "execution_count": 21,
   "id": "b4927177",
   "metadata": {},
   "outputs": [],
   "source": [
    "counter = CountVectorizer()"
   ]
  },
  {
   "cell_type": "code",
   "execution_count": 25,
   "id": "78da6171",
   "metadata": {},
   "outputs": [
    {
     "data": {
      "text/plain": [
       "CountVectorizer()"
      ]
     },
     "execution_count": 25,
     "metadata": {},
     "output_type": "execute_result"
    }
   ],
   "source": [
    "counter.fit(test_emails.data + train_emails.data)"
   ]
  },
  {
   "cell_type": "code",
   "execution_count": 30,
   "id": "caa94653",
   "metadata": {},
   "outputs": [],
   "source": [
    "train_counts = counter.transform(train_emails.data)\n",
    "# print(train_counts)\n",
    "test_counts = counter.transform(test_emails.data)"
   ]
  },
  {
   "cell_type": "code",
   "execution_count": 35,
   "id": "d64434eb",
   "metadata": {},
   "outputs": [],
   "source": [
    "classifier = MultinomialNB()"
   ]
  },
  {
   "cell_type": "code",
   "execution_count": 41,
   "id": "1e6c3c4f",
   "metadata": {},
   "outputs": [
    {
     "data": {
      "text/plain": [
       "MultinomialNB()"
      ]
     },
     "execution_count": 41,
     "metadata": {},
     "output_type": "execute_result"
    }
   ],
   "source": [
    "classifier.fit(train_counts, train_emails.target)"
   ]
  },
  {
   "cell_type": "code",
   "execution_count": 42,
   "id": "89a92642",
   "metadata": {},
   "outputs": [
    {
     "data": {
      "text/plain": [
       "0.9723618090452262"
      ]
     },
     "execution_count": 42,
     "metadata": {},
     "output_type": "execute_result"
    }
   ],
   "source": [
    "classifier.score(test_counts, test_emails.target)"
   ]
  },
  {
   "cell_type": "code",
   "execution_count": 48,
   "id": "0be39778",
   "metadata": {},
   "outputs": [],
   "source": [
    "### Our classifier does a pretty good job distinguishing between soccer emails and hockey emails. \n",
    "# But let’s see how it does with emails about really different topics.\n",
    "# Find where you create train_emails and test_emails. Change the categories to be ['comp.sys.ibm.pc.hardware','rec.sport.hockey'].\n",
    "\n",
    "train_emails = fetch_20newsgroups(categories = ['comp.sys.ibm.pc.hardware','rec.sport.hockey'], subset = 'train', shuffle = True, random_state = 108)\n",
    "test_emails = fetch_20newsgroups(categories = ['comp.sys.ibm.pc.hardware','rec.sport.hockey'], subset = 'test', shuffle = True, random_state = 108)"
   ]
  },
  {
   "cell_type": "code",
   "execution_count": 49,
   "id": "e17aacb9",
   "metadata": {},
   "outputs": [
    {
     "data": {
      "text/plain": [
       "0.9860935524652339"
      ]
     },
     "execution_count": 49,
     "metadata": {},
     "output_type": "execute_result"
    }
   ],
   "source": [
    "train_counts = counter.transform(train_emails.data)\n",
    "test_counts = counter.transform(test_emails.data)\n",
    "classifier.fit(train_counts, train_emails.target)\n",
    "classifier.score(test_counts, test_emails.target)"
   ]
  },
  {
   "cell_type": "code",
   "execution_count": null,
   "id": "d19df5f1",
   "metadata": {},
   "outputs": [],
   "source": [
    "# Play around with different sets of data. Can you find a set that’s incredibly accurate or incredibly inaccurate?\n",
    "\n",
    "# The possible categories are listed below.\n",
    "\n",
    "# 'alt.atheism'\n",
    "# 'comp.graphics'\n",
    "# 'comp.os.ms-windows.misc'\n",
    "# 'comp.sys.ibm.pc.hardware'\n",
    "# 'comp.sys.mac.hardware'\n",
    "# 'comp.windows.x'\n",
    "# 'misc.forsale'\n",
    "# 'rec.autos'\n",
    "# 'rec.motorcycles'\n",
    "# 'rec.sport.baseball'\n",
    "# 'rec.sport.hockey'\n",
    "# 'sci.crypt'\n",
    "# 'sci.electronics'\n",
    "# 'sci.med'\n",
    "# 'sci.space'\n",
    "# 'soc.religion.christian'\n",
    "# 'talk.politics.guns'\n",
    "# 'talk.politics.mideast'\n",
    "# 'talk.politics.misc'\n",
    "# 'talk.religion.misc'"
   ]
  },
  {
   "cell_type": "code",
   "execution_count": null,
   "id": "713811e8",
   "metadata": {},
   "outputs": [],
   "source": []
  }
 ],
 "metadata": {
  "kernelspec": {
   "display_name": "Python 3 (ipykernel)",
   "language": "python",
   "name": "python3"
  },
  "language_info": {
   "codemirror_mode": {
    "name": "ipython",
    "version": 3
   },
   "file_extension": ".py",
   "mimetype": "text/x-python",
   "name": "python",
   "nbconvert_exporter": "python",
   "pygments_lexer": "ipython3",
   "version": "3.10.1"
  }
 },
 "nbformat": 4,
 "nbformat_minor": 5
}
