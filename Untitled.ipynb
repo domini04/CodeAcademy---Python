{
 "cells": [
  {
   "cell_type": "code",
   "execution_count": 72,
   "id": "ddd84985",
   "metadata": {},
   "outputs": [
    {
     "data": {
      "text/html": [
       "<div>\n",
       "<style scoped>\n",
       "    .dataframe tbody tr th:only-of-type {\n",
       "        vertical-align: middle;\n",
       "    }\n",
       "\n",
       "    .dataframe tbody tr th {\n",
       "        vertical-align: top;\n",
       "    }\n",
       "\n",
       "    .dataframe thead th {\n",
       "        text-align: right;\n",
       "    }\n",
       "</style>\n",
       "<table border=\"1\" class=\"dataframe\">\n",
       "  <thead>\n",
       "    <tr style=\"text-align: right;\">\n",
       "      <th></th>\n",
       "      <th>Sex</th>\n",
       "      <th>Age</th>\n",
       "      <th>FirstClass</th>\n",
       "      <th>SecondClass</th>\n",
       "    </tr>\n",
       "  </thead>\n",
       "  <tbody>\n",
       "    <tr>\n",
       "      <th>0</th>\n",
       "      <td>0</td>\n",
       "      <td>22.0</td>\n",
       "      <td>0</td>\n",
       "      <td>0</td>\n",
       "    </tr>\n",
       "    <tr>\n",
       "      <th>1</th>\n",
       "      <td>1</td>\n",
       "      <td>38.0</td>\n",
       "      <td>1</td>\n",
       "      <td>0</td>\n",
       "    </tr>\n",
       "    <tr>\n",
       "      <th>2</th>\n",
       "      <td>1</td>\n",
       "      <td>26.0</td>\n",
       "      <td>0</td>\n",
       "      <td>0</td>\n",
       "    </tr>\n",
       "    <tr>\n",
       "      <th>3</th>\n",
       "      <td>1</td>\n",
       "      <td>35.0</td>\n",
       "      <td>1</td>\n",
       "      <td>0</td>\n",
       "    </tr>\n",
       "    <tr>\n",
       "      <th>4</th>\n",
       "      <td>0</td>\n",
       "      <td>35.0</td>\n",
       "      <td>0</td>\n",
       "      <td>0</td>\n",
       "    </tr>\n",
       "  </tbody>\n",
       "</table>\n",
       "</div>"
      ],
      "text/plain": [
       "   Sex   Age  FirstClass  SecondClass\n",
       "0    0  22.0           0            0\n",
       "1    1  38.0           1            0\n",
       "2    1  26.0           0            0\n",
       "3    1  35.0           1            0\n",
       "4    0  35.0           0            0"
      ]
     },
     "execution_count": 72,
     "metadata": {},
     "output_type": "execute_result"
    }
   ],
   "source": [
    "# import codecademylib3_seaborn\n",
    "import pandas as pd\n",
    "import numpy as np\n",
    "import matplotlib.pyplot as plt\n",
    "from sklearn.linear_model import LogisticRegression\n",
    "from sklearn.model_selection import train_test_split\n",
    "from sklearn.preprocessing import StandardScaler\n",
    "\n",
    "# Load the passenger data\n",
    "passengers = pd.read_csv(\"passengers.csv\")\n",
    "# print(passengers)\n",
    "# Update sex column to numerical\n",
    "# female = 1, male = 0\n",
    "passengers['Sex'] = passengers['Sex'].apply(lambda x : 0 if x == \"male\" else 1)\n",
    "# passengers['Sex'].map({'male':0,'female':1})\n",
    "passengers['Age'].fillna(value=np.mean(passengers['Age']), inplace = True)\n",
    "\n",
    "passengers['FirstClass'] = passengers[\"Pclass\"].apply(lambda x : 1 if x== 1 else 0)\n",
    "passengers['SecondClass'] = passengers[\"Pclass\"].apply(lambda x : 1 if x == 2 else 0)\n",
    "features = passengers[['Sex', 'Age', 'FirstClass','SecondClass']]\n",
    "survival = passengers[['Survived']]\n",
    "features.head()"
   ]
  },
  {
   "cell_type": "code",
   "execution_count": 97,
   "id": "77563376",
   "metadata": {},
   "outputs": [
    {
     "name": "stderr",
     "output_type": "stream",
     "text": [
      "C:\\Users\\leesh\\AppData\\Local\\Programs\\Python\\Python310\\lib\\site-packages\\sklearn\\utils\\validation.py:993: DataConversionWarning: A column-vector y was passed when a 1d array was expected. Please change the shape of y to (n_samples, ), for example using ravel().\n",
      "  y = column_or_1d(y, warn=True)\n"
     ]
    },
    {
     "data": {
      "text/plain": [
       "LogisticRegression()"
      ]
     },
     "execution_count": 97,
     "metadata": {},
     "output_type": "execute_result"
    }
   ],
   "source": [
    "# passengers.head()\n",
    "# print(FirstClass)\n",
    "\n",
    "train_features, test_features, train_labels, test_labels = train_test_split(features, survival, test_size = 0.2)\n",
    "scaler = StandardScaler()\n",
    "train_features = scaler.fit_transform(train_features)\n",
    "# # print(test_features)\n",
    "test_features = scaler.transform(test_features)\n",
    "# print(test_features)\n",
    "lgr = LogisticRegression()\n",
    "lgr.fit(train_features, train_labels)\n",
    "# lgr.score(train_features, train_labels)\n",
    "# lgr.score(test_features, test_labels)\n",
    "# print(lgr.coef_)"
   ]
  },
  {
   "cell_type": "code",
   "execution_count": 101,
   "id": "af7f1224",
   "metadata": {},
   "outputs": [
    {
     "name": "stderr",
     "output_type": "stream",
     "text": [
      "C:\\Users\\leesh\\AppData\\Local\\Programs\\Python\\Python310\\lib\\site-packages\\sklearn\\base.py:450: UserWarning: X does not have valid feature names, but StandardScaler was fitted with feature names\n",
      "  warnings.warn(\n"
     ]
    },
    {
     "data": {
      "text/plain": [
       "array([[0.89497815, 0.10502185],\n",
       "       [0.04474163, 0.95525837],\n",
       "       [0.53271444, 0.46728556]])"
      ]
     },
     "execution_count": 101,
     "metadata": {},
     "output_type": "execute_result"
    }
   ],
   "source": [
    "Jack = np.array([0.0,20.0,0.0,0.0])\n",
    "Rose = np.array([1.0,17.0,1.0,0.0])\n",
    "Me = np.array([0.0,30.0,1.0,0.0])\n",
    "combined_passengers = np.array([Jack, Rose, Me])\n",
    "scaled_passengers = scaler.transform(combined_passengers)\n",
    "# print(scaled_passengers)\n",
    "lgr.predict(scaled_passengers)\n",
    "lgr.predict_proba(scaled_passengers)"
   ]
  }
 ],
 "metadata": {
  "kernelspec": {
   "display_name": "Python 3 (ipykernel)",
   "language": "python",
   "name": "python3"
  },
  "language_info": {
   "codemirror_mode": {
    "name": "ipython",
    "version": 3
   },
   "file_extension": ".py",
   "mimetype": "text/x-python",
   "name": "python",
   "nbconvert_exporter": "python",
   "pygments_lexer": "ipython3",
   "version": "3.10.1"
  }
 },
 "nbformat": 4,
 "nbformat_minor": 5
}
