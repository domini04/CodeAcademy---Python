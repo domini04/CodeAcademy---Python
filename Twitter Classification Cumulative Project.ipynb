{
 "cells": [
  {
   "cell_type": "code",
   "execution_count": null,
   "id": "2d16d663",
   "metadata": {},
   "outputs": [],
   "source": [
    "# In this project, you will use real tweets to find patterns in the way people use social media.\n",
    "# There are two parts to this project that can be done in either order.\n",
    "\n",
    "# In the first part, you will make a system that predicts whether or not a tweet will go viral by using a K-Nearest Neighbor classifier. What features of a tweet do you think are the most important in determining its virality? Does the length of the tweet matter? What about the number of hashtags? Maybe information about the account that sent the tweet is most important. You’ll answer these questions while using DataFrames and Matplotlib visualizations to present your results!\n",
    "\n",
    "# In the second part of this project, you’ll test the power of Naive Bayes classifiers by creating a system that predicts whether a tweet was sent from New York City, London, or Paris. You will investigate how language is used differently in these three cities. Can the classifier automatically detect the difference between French and English? Can it learn local phrases or slang? Can you create tweets that trick the system?"
   ]
  },
  {
   "cell_type": "code",
   "execution_count": null,
   "id": "1af6ba1a",
   "metadata": {},
   "outputs": [],
   "source": []
  },
  {
   "cell_type": "code",
   "execution_count": null,
   "id": "b4b1801d",
   "metadata": {},
   "outputs": [],
   "source": []
  },
  {
   "cell_type": "code",
   "execution_count": null,
   "id": "8c0c6c58",
   "metadata": {},
   "outputs": [],
   "source": []
  },
  {
   "cell_type": "code",
   "execution_count": null,
   "id": "3a46dded",
   "metadata": {},
   "outputs": [],
   "source": []
  },
  {
   "cell_type": "code",
   "execution_count": null,
   "id": "89ecf667",
   "metadata": {},
   "outputs": [],
   "source": []
  },
  {
   "cell_type": "code",
   "execution_count": null,
   "id": "521a7e8e",
   "metadata": {},
   "outputs": [],
   "source": []
  },
  {
   "cell_type": "code",
   "execution_count": null,
   "id": "ec284fc2",
   "metadata": {},
   "outputs": [],
   "source": []
  },
  {
   "cell_type": "code",
   "execution_count": null,
   "id": "8fab6efd",
   "metadata": {},
   "outputs": [],
   "source": []
  },
  {
   "cell_type": "code",
   "execution_count": null,
   "id": "5501079b",
   "metadata": {},
   "outputs": [],
   "source": []
  },
  {
   "cell_type": "code",
   "execution_count": null,
   "id": "f30a7e01",
   "metadata": {},
   "outputs": [],
   "source": []
  },
  {
   "cell_type": "code",
   "execution_count": null,
   "id": "56bec177",
   "metadata": {},
   "outputs": [],
   "source": []
  },
  {
   "cell_type": "code",
   "execution_count": null,
   "id": "82ac1ee5",
   "metadata": {},
   "outputs": [],
   "source": []
  }
 ],
 "metadata": {
  "kernelspec": {
   "display_name": "Python 3 (ipykernel)",
   "language": "python",
   "name": "python3"
  },
  "language_info": {
   "codemirror_mode": {
    "name": "ipython",
    "version": 3
   },
   "file_extension": ".py",
   "mimetype": "text/x-python",
   "name": "python",
   "nbconvert_exporter": "python",
   "pygments_lexer": "ipython3",
   "version": "3.10.1"
  }
 },
 "nbformat": 4,
 "nbformat_minor": 5
}
